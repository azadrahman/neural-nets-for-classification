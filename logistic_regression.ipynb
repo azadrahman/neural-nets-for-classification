{
 "cells": [
  {
   "cell_type": "code",
   "execution_count": 1,
   "metadata": {},
   "outputs": [],
   "source": [
    "import numpy as np\n",
    "import matplotlib.pyplot as plt\n",
    "plt.style.use([\"seaborn-paper\", \"seaborn-white\"])\n",
    "plt.rcParams[\"image.cmap\"] = \"viridis\"\n",
    "\n",
    "np.random.seed(321)"
   ]
  },
  {
   "cell_type": "markdown",
   "metadata": {},
   "source": [
    "## Data generation"
   ]
  },
  {
   "cell_type": "markdown",
   "metadata": {},
   "source": [
    "The following function can be used to generate a 2D dataset, with observations belonging to either the \"0\" or \"1\" class."
   ]
  },
  {
   "cell_type": "code",
   "execution_count": 2,
   "metadata": {},
   "outputs": [],
   "source": [
    "def generate_data(n, alpha=0.1, beta=1, initial_point=(0, 0), add_bias=True):\n",
    "    \"\"\"\n",
    "    Iteratively generate a 2-class, 2D dataset with a \"nudge-and-flip\" method.\n",
    "    \n",
    "    Keyword arguments:\n",
    "    alpha -- larger value increases spread (default 0.1)\n",
    "    beta -- larger value increases jitter (default 1.0)\n",
    "    initial_point -- coordinate of first observation\n",
    "    add_bias -- Add a bias feature (i.e. prepend a column of 1s)\n",
    "    \"\"\"\n",
    "    \n",
    "    data = np.empty((n, 2))\n",
    "    # Define an initial point\n",
    "    data[0, :] = initial_point\n",
    "    \n",
    "    # Randomly \"scale\" the upcoming reflection\n",
    "    a = np.random.uniform(low=(-1-alpha), high=(-1+alpha), size=n)\n",
    "    \n",
    "    # \"Flip\" previous point and add some noise\n",
    "    for k in range(1, n):\n",
    "        data[k, ] = a[k]*data[k-1, :] + beta*np.random.normal(0, 1, size=2)\n",
    "    \n",
    "    # Add a bias variable\n",
    "    if add_bias:\n",
    "        data = np.hstack((np.ones((n, 1)), data))\n",
    "    \n",
    "    # Labels are two classes (0, 1), strictly alternating, because of \"flipping\" above\n",
    "    labs = np.array([0, 1]*(n//2 + 1))[:n]\n",
    "    \n",
    "    return data, labs"
   ]
  },
  {
   "cell_type": "markdown",
   "metadata": {},
   "source": [
    "An example dataset is generated and visualised below."
   ]
  },
  {
   "cell_type": "code",
   "execution_count": 3,
   "metadata": {
    "scrolled": false
   },
   "outputs": [
    {
     "data": {
      "text/plain": [
       "<matplotlib.legend.Legend at 0x28e976f5dd8>"
      ]
     },
     "execution_count": 3,
     "metadata": {},
     "output_type": "execute_result"
    },
    {
     "data": {
      "image/png": "[encoded data removed]",
      "text/plain": [
       "<Figure size 432x288 with 1 Axes>"
      ]
     },
     "metadata": {
      "needs_background": "light"
     },
     "output_type": "display_data"
    }
   ],
   "source": [
    "demo_data, demo_labs = generate_data(1000, initial_point=[10, 10])\n",
    "\n",
    "for lab in [0, 1]:\n",
    "    plt.scatter(demo_data[demo_labs == lab, 1], demo_data[demo_labs == lab, 2], label=lab)\n",
    "\n",
    "plt.legend(title=\"Class\", frameon=True)"
   ]
  },
  {
   "cell_type": "markdown",
   "metadata": {},
   "source": [
    "## Auxiliary functions"
   ]
  },
  {
   "cell_type": "markdown",
   "metadata": {},
   "source": [
    "For validation and testing, we need some way of splitting up our dataset into separate sets."
   ]
  },
  {
   "cell_type": "code",
   "execution_count": 4,
   "metadata": {},
   "outputs": [],
   "source": [
    "def make_sets(data, labels, props, shuffle=True):\n",
    "    \"\"\"\n",
    "    Divide data/labels into proportional sets.\n",
    "    \n",
    "    Keyword arguments:\n",
    "    data -- dataset of features\n",
    "    labels -- matching set of labels\n",
    "    props -- list of proportions, which must sum to 1, e.g. [0.6, 0.2, 0.2] for a 60%/20%/20% split\n",
    "    \"\"\"\n",
    "    \n",
    "    if sum(props) != 1:\n",
    "        raise ValueError(\"proportions must sum to 1\")\n",
    "    \n",
    "    m = data.shape[0]\n",
    "    idx = np.random.permutation(m) if shuffle else range(m)\n",
    "    \n",
    "    sets = []\n",
    "    cursor = 0\n",
    "    \n",
    "    for p in props:\n",
    "        dset = data[idx, :][cursor:(cursor+int(p*m)), :]\n",
    "        sets.append(dset)\n",
    "        lset = labels[idx][cursor:(cursor+int(p*m))]\n",
    "        sets.append(lset)\n",
    "        \n",
    "        cursor = int(p*m)\n",
    "    \n",
    "    return sets"
   ]
  },
  {
   "cell_type": "markdown",
   "metadata": {},
   "source": [
    "Here we split our demo data into three distinct `*_train`, `*_val` and `*_test` sets."
   ]
  },
  {
   "cell_type": "code",
   "execution_count": 5,
   "metadata": {},
   "outputs": [],
   "source": [
    "X_train, y_train, X_val, y_val, X_test, y_test = make_sets(demo_data, demo_labs, [0.6, 0.2, 0.2])"
   ]
  },
  {
   "cell_type": "markdown",
   "metadata": {},
   "source": [
    "Note that we had 1000 observations to begin with:"
   ]
  },
  {
   "cell_type": "code",
   "execution_count": 6,
   "metadata": {},
   "outputs": [
    {
     "data": {
      "text/plain": [
       "((600, 3), (200,))"
      ]
     },
     "execution_count": 6,
     "metadata": {},
     "output_type": "execute_result"
    }
   ],
   "source": [
    "X_train.shape, y_val.shape"
   ]
  },
  {
   "cell_type": "markdown",
   "metadata": {},
   "source": [
    "We will require an activation function:"
   ]
  },
  {
   "cell_type": "code",
   "execution_count": 7,
   "metadata": {},
   "outputs": [],
   "source": [
    "def sigmoid(z):\n",
    "    return 1/(1 + np.exp(-z))"
   ]
  },
  {
   "cell_type": "code",
   "execution_count": 8,
   "metadata": {
    "scrolled": false
   },
   "outputs": [
    {
     "data": {
      "text/plain": [
       "<matplotlib.lines.Line2D at 0x28e977ae828>"
      ]
     },
     "execution_count": 8,
     "metadata": {},
     "output_type": "execute_result"
    },
    {
     "data": {
      "image/png": "[encoded data removed]",
      "text/plain": [
       "<Figure size 432x288 with 1 Axes>"
      ]
     },
     "metadata": {
      "needs_background": "light"
     },
     "output_type": "display_data"
    }
   ],
   "source": [
    "x = np.linspace(-10, 10)\n",
    "plt.plot(x, sigmoid(x))\n",
    "\n",
    "plt.axhline(y=0, color=\"r\", linestyle=\"--\", alpha=0.7)\n",
    "plt.axhline(y=1, color=\"r\", linestyle=\"--\", alpha=0.7)\n",
    "plt.axhline(y=0.5, color=\"g\", linestyle=\":\", alpha=0.5)\n",
    "plt.axvline(x=0, color=\"g\", linestyle=\":\", alpha=0.5)"
   ]
  },
  {
   "cell_type": "markdown",
   "metadata": {},
   "source": [
    "Our model gives predictions by calculating a weighted sum, and activating the result. We use matrix operations to efficiently do this for multiple observations at a time."
   ]
  },
  {
   "cell_type": "code",
   "execution_count": 9,
   "metadata": {},
   "outputs": [],
   "source": [
    "def predict(features, weights):\n",
    "    Z = np.dot(features, weights)\n",
    "    return sigmoid(Z)"
   ]
  },
  {
   "cell_type": "markdown",
   "metadata": {},
   "source": [
    "We initialise our weights with 0 (but anything would be fine). There are 3 weights: one for the bias unit, and one for each of the two features."
   ]
  },
  {
   "cell_type": "code",
   "execution_count": 10,
   "metadata": {},
   "outputs": [],
   "source": [
    "init_weights = np.zeros(3)"
   ]
  },
  {
   "cell_type": "code",
   "execution_count": 11,
   "metadata": {},
   "outputs": [
    {
     "data": {
      "text/plain": [
       "array([0.5, 0.5, 0.5, 0.5, 0.5, 0.5, 0.5, 0.5, 0.5, 0.5])"
      ]
     },
     "execution_count": 11,
     "metadata": {},
     "output_type": "execute_result"
    }
   ],
   "source": [
    "preds = predict(X_val, init_weights)\n",
    "preds[:10]"
   ]
  },
  {
   "cell_type": "markdown",
   "metadata": {},
   "source": [
    "Our predictions are currently values in the range between 0 and 1. To give a class to each prediction we need to set some threshold (generally 0.5) which defines the boundary between classes."
   ]
  },
  {
   "cell_type": "code",
   "execution_count": 12,
   "metadata": {},
   "outputs": [],
   "source": [
    "def classify(predictions, threshold=0.5):\n",
    "    return (predictions >= threshold).astype(int)"
   ]
  },
  {
   "cell_type": "code",
   "execution_count": 13,
   "metadata": {
    "scrolled": false
   },
   "outputs": [
    {
     "data": {
      "text/plain": [
       "array([1, 1, 1, 1, 1, 1, 1, 1, 1, 1])"
      ]
     },
     "execution_count": 13,
     "metadata": {},
     "output_type": "execute_result"
    }
   ],
   "source": [
    "preds_classes = classify(preds)\n",
    "preds_classes[:10]"
   ]
  },
  {
   "cell_type": "markdown",
   "metadata": {},
   "source": [
    "To assess the performance of the model, we'll need some sort of metric - accuracy is simplest, and fine for us since our classes are balanced. Pre-training we'd expect ~50% accuracy, equivalent to randomly guessing."
   ]
  },
  {
   "cell_type": "code",
   "execution_count": 14,
   "metadata": {},
   "outputs": [],
   "source": [
    "def accuracy(predicted, actual):\n",
    "    return np.mean(predicted == actual)"
   ]
  },
  {
   "cell_type": "code",
   "execution_count": 15,
   "metadata": {
    "scrolled": true
   },
   "outputs": [
    {
     "data": {
      "text/plain": [
       "0.49"
      ]
     },
     "execution_count": 15,
     "metadata": {},
     "output_type": "execute_result"
    }
   ],
   "source": [
    "accuracy(preds_classes, y_val)"
   ]
  },
  {
   "cell_type": "markdown",
   "metadata": {},
   "source": [
    "Although it won't be pretty to look at for now, we'll also want to look at the \"decision boundary\" later, so we'll define a function that plots predictions behind the data as a contoured surface."
   ]
  },
  {
   "cell_type": "code",
   "execution_count": 16,
   "metadata": {},
   "outputs": [],
   "source": [
    "def plot_boundary(data, labels, weights, subdivs=200, alpha=0.2):\n",
    "    \n",
    "    # Get plot limits\n",
    "    fig, ax = plt.subplots()\n",
    "    \n",
    "    for lab in [0, 1]:\n",
    "        ax.scatter(data[labels == lab, 1], data[labels == lab, 2], label=lab)\n",
    "\n",
    "    xmin, xmax = ax.get_xlim()\n",
    "    xstep = (xmax-xmin)/subdivs\n",
    "    ymin, ymax = ax.get_ylim()\n",
    "    ystep = (ymax-ymin)/subdivs\n",
    "    \n",
    "    # Clear axes\n",
    "    plt.cla()\n",
    "    \n",
    "    # Plot again!\n",
    "    grid = np.mgrid[xmin:xmax:xstep, ymin:ymax:ystep].reshape(2, -1).T\n",
    "    n = grid.shape[0]\n",
    "    grid_with_bias = np.hstack((np.ones((n, 1)), grid))\n",
    "    \n",
    "    preds = predict(grid_with_bias, weights)\n",
    "    \n",
    "    plt.contourf(np.arange(xmin, xmax, xstep), np.arange(ymin, ymax, ystep),\n",
    "                 preds.reshape(-1, subdivs).T,\n",
    "                 alpha = alpha)\n",
    "    plt.contour(np.arange(xmin, xmax, xstep), np.arange(ymin, ymax, ystep),\n",
    "                preds.reshape(-1, subdivs).T,\n",
    "                levels=[0.5], linestyles=\"dashed\")\n",
    "    \n",
    "    for lab in [0, 1]:\n",
    "        ax.scatter(data[labels == lab, 1], data[labels == lab, 2], label=lab)\n",
    "        \n",
    "    plt.legend(title=\"Class\", frameon=True)\n",
    "    \n",
    "    plt.show()\n",
    "    \n",
    "    return None"
   ]
  },
  {
   "cell_type": "code",
   "execution_count": 17,
   "metadata": {},
   "outputs": [
    {
     "name": "stderr",
     "output_type": "stream",
     "text": [
      "C:\\Users\\ojones\\AppData\\Local\\Continuum\\miniconda3\\lib\\site-packages\\matplotlib\\contour.py:1243: UserWarning: No contour levels were found within the data range.\n",
      "  warnings.warn(\"No contour levels were found\"\n"
     ]
    },
    {
     "data": {
      "image/png": "[encoded data removed]",
      "text/plain": [
       "<Figure size 432x288 with 1 Axes>"
      ]
     },
     "metadata": {
      "needs_background": "light"
     },
     "output_type": "display_data"
    }
   ],
   "source": [
    "plot_boundary(X_val, y_val, init_weights)"
   ]
  },
  {
   "cell_type": "markdown",
   "metadata": {},
   "source": [
    "## Simple logistic regression"
   ]
  },
  {
   "cell_type": "markdown",
   "metadata": {},
   "source": [
    "First we define the binary cross-entropy cost function..."
   ]
  },
  {
   "cell_type": "code",
   "execution_count": 18,
   "metadata": {},
   "outputs": [],
   "source": [
    "def get_cost(features, labels, weights):\n",
    "    \n",
    "    m = features.shape[0]\n",
    "    preds = predict(features, weights)\n",
    "    \n",
    "    cost = -(labels*np.log(preds) + (1-labels)*np.log(1-preds)).sum()\n",
    "    \n",
    "    # Average cost per observation\n",
    "    return cost/m\n",
    "    "
   ]
  },
  {
   "cell_type": "code",
   "execution_count": 19,
   "metadata": {
    "scrolled": false
   },
   "outputs": [
    {
     "data": {
      "text/plain": [
       "0.6931471805599453"
      ]
     },
     "execution_count": 19,
     "metadata": {},
     "output_type": "execute_result"
    }
   ],
   "source": [
    "get_cost(X_train, y_train, init_weights)"
   ]
  },
  {
   "cell_type": "markdown",
   "metadata": {},
   "source": [
    "Then the first-order gradient of the cost function, with respect to the model's weights."
   ]
  },
  {
   "cell_type": "code",
   "execution_count": 20,
   "metadata": {},
   "outputs": [],
   "source": [
    "def get_grad(features, labels, weights):\n",
    "    \n",
    "    m = features.shape[0]\n",
    "    preds = predict(features, weights)\n",
    "    \n",
    "    # Average gradient over all observations\n",
    "    grad = np.dot(features.T, (preds - labels)) / m\n",
    "    \n",
    "    return grad"
   ]
  },
  {
   "cell_type": "code",
   "execution_count": 21,
   "metadata": {},
   "outputs": [
    {
     "data": {
      "text/plain": [
       "array([ 0.01333333, 13.11543754, -0.77495361])"
      ]
     },
     "execution_count": 21,
     "metadata": {},
     "output_type": "execute_result"
    }
   ],
   "source": [
    "get_grad(X_train, y_train, init_weights)"
   ]
  },
  {
   "cell_type": "markdown",
   "metadata": {},
   "source": [
    "Now we define a basic training routine, which runs either for the number of iterations specified in `iters` or terminates earlier if an improvement of less than `tolerance` is made to the cost. It returns the optimised weights and the values of the cost function at all iterations."
   ]
  },
  {
   "cell_type": "code",
   "execution_count": 22,
   "metadata": {},
   "outputs": [],
   "source": [
    "def train(features, labels, init_weights, iters=1000, rate=0.1, tolerance=1e-6, verbose=True, report_level=100):\n",
    "\n",
    "    cost = get_cost(features, labels, init_weights)\n",
    "    \n",
    "    if verbose:\n",
    "        print(\"Training in progress...\")\n",
    "        print(\"\")\n",
    "        print(\"Iter | Cost\")\n",
    "        print(\"---- | ----\")\n",
    "        print(\"0000 |\", cost)\n",
    "\n",
    "    cost_history = np.empty(iters+1)\n",
    "    cost_history[0] = cost\n",
    "    weights = init_weights[:]\n",
    "    \n",
    "    for k in range(1, iters+1):\n",
    "        \n",
    "        # Update weights based on gradient of cost function\n",
    "        grad = get_grad(features, labels, weights)\n",
    "        weights = weights - rate*grad\n",
    "        \n",
    "        new_cost = get_cost(features, labels, weights)\n",
    "        \n",
    "        # Stopping criterion\n",
    "        if abs(cost - new_cost) < tolerance:\n",
    "            if verbose:\n",
    "                print(\"Tolerance reached - terminating early!\")\n",
    "            \n",
    "            cost_history = cost_history[:k]\n",
    "            break\n",
    "            \n",
    "        else:        \n",
    "            cost = new_cost\n",
    "            cost_history[k] = cost\n",
    "        \n",
    "            if verbose and k % report_level == 0:\n",
    "                print(str(k).zfill(4), \"|\", cost)\n",
    "    \n",
    "    if verbose:\n",
    "        print(\"\")\n",
    "        print(\"Training complete!\")\n",
    "        print(\"Iterations completed:\", k)\n",
    "        print(\"Final cost:\", cost_history[-1])\n",
    "    \n",
    "    return weights, cost_history"
   ]
  },
  {
   "cell_type": "markdown",
   "metadata": {},
   "source": [
    "Let's try running this with a smallish learning rate."
   ]
  },
  {
   "cell_type": "code",
   "execution_count": 23,
   "metadata": {},
   "outputs": [
    {
     "name": "stdout",
     "output_type": "stream",
     "text": [
      "Training in progress...\n",
      "\n",
      "Iter | Cost\n",
      "---- | ----\n",
      "0000 | 0.6931471805599453\n",
      "0010 | 0.1678468407907179\n",
      "0020 | 0.15540493583957077\n",
      "0030 | 0.1502942358492958\n",
      "0040 | 0.14777605914446323\n",
      "0050 | 0.14641236507851643\n",
      "0060 | 0.1456291885227473\n",
      "0070 | 0.14516092121184054\n",
      "0080 | 0.1448725560446095\n",
      "0090 | 0.14469086809145348\n",
      "0100 | 0.14457421946061733\n",
      "0110 | 0.14449807572248818\n",
      "0120 | 0.14444757848656517\n",
      "0130 | 0.14441353401468582\n",
      "0140 | 0.14439015600507227\n",
      "0150 | 0.14437375283617332\n",
      "0160 | 0.1443619433473207\n",
      "Tolerance reached - terminating early!\n",
      "\n",
      "Training complete!\n",
      "Iterations completed: 161\n",
      "Final cost: 0.1443619433473207\n"
     ]
    }
   ],
   "source": [
    "optw, ch = train(X_train, y_train, init_weights, iters=2000, rate=0.01, report_level=10)"
   ]
  },
  {
   "cell_type": "markdown",
   "metadata": {},
   "source": [
    "Let's inspect the cost history (we expect a smooth decrease) and the optimum weights."
   ]
  },
  {
   "cell_type": "code",
   "execution_count": 24,
   "metadata": {
    "scrolled": false
   },
   "outputs": [
    {
     "data": {
      "text/plain": [
       "[<matplotlib.lines.Line2D at 0x28e978ec278>]"
      ]
     },
     "execution_count": 24,
     "metadata": {},
     "output_type": "execute_result"
    },
    {
     "data": {
      "image/png": "[encoded data removed]",
      "text/plain": [
       "<Figure size 432x288 with 1 Axes>"
      ]
     },
     "metadata": {
      "needs_background": "light"
     },
     "output_type": "display_data"
    }
   ],
   "source": [
    "plt.plot(ch)"
   ]
  },
  {
   "cell_type": "code",
   "execution_count": 25,
   "metadata": {
    "scrolled": true
   },
   "outputs": [
    {
     "data": {
      "text/plain": [
       "array([-0.00832463, -0.25347881, -0.12698687])"
      ]
     },
     "execution_count": 25,
     "metadata": {},
     "output_type": "execute_result"
    }
   ],
   "source": [
    "optw"
   ]
  },
  {
   "cell_type": "markdown",
   "metadata": {},
   "source": [
    "Now we can assess the accuracy of our trained model..."
   ]
  },
  {
   "cell_type": "code",
   "execution_count": 26,
   "metadata": {},
   "outputs": [
    {
     "data": {
      "text/plain": [
       "0.96"
      ]
     },
     "execution_count": 26,
     "metadata": {},
     "output_type": "execute_result"
    }
   ],
   "source": [
    "preds = predict(X_val, optw)\n",
    "preds_classes = classify(preds)\n",
    "\n",
    "accuracy(preds_classes, y_val)"
   ]
  },
  {
   "cell_type": "markdown",
   "metadata": {},
   "source": [
    "... and plot the new decision boundary!"
   ]
  },
  {
   "cell_type": "code",
   "execution_count": 27,
   "metadata": {},
   "outputs": [
    {
     "data": {
      "image/png": "[encoded data removed]",
      "text/plain": [
       "<Figure size 432x288 with 1 Axes>"
      ]
     },
     "metadata": {
      "needs_background": "light"
     },
     "output_type": "display_data"
    }
   ],
   "source": [
    "plot_boundary(X_val, y_val, optw)"
   ]
  },
  {
   "cell_type": "markdown",
   "metadata": {},
   "source": [
    "## Regularisation"
   ]
  },
  {
   "cell_type": "markdown",
   "metadata": {},
   "source": [
    "Large weights increase sensitivity of output to small changes in input. It would be better if we coukd \"spread\" this sensitivity over the weights, to reduce reliance on any individual weights, thus improving robustness (and hopefully improving generalisation).\n",
    "\n",
    "We'll discourage large weights by adding a penalty term to the cost function: (squared) L2-norm of all weights. This means we need to redefine our cost/grad functions."
   ]
  },
  {
   "cell_type": "code",
   "execution_count": 28,
   "metadata": {},
   "outputs": [],
   "source": [
    "def get_cost(features, labels, weights, gamma):\n",
    "    \n",
    "    m = features.shape[0]\n",
    "    preds = predict(features, weights)\n",
    "    \n",
    "    # Log-loss cost function\n",
    "    cost = -(labels*np.log(preds) + (1-labels)*np.log(1-preds)).sum()\n",
    "    \n",
    "    # Add regularisation term\n",
    "    cost = cost + (gamma/2)*(weights[1:]**2).sum()\n",
    "    \n",
    "    # Average cost per observation\n",
    "    return cost/m\n",
    "    "
   ]
  },
  {
   "cell_type": "code",
   "execution_count": 29,
   "metadata": {
    "scrolled": false
   },
   "outputs": [
    {
     "data": {
      "text/plain": [
       "0.6931471805599453"
      ]
     },
     "execution_count": 29,
     "metadata": {},
     "output_type": "execute_result"
    }
   ],
   "source": [
    "get_cost(X_train, y_train, init_weights, 100)"
   ]
  },
  {
   "cell_type": "code",
   "execution_count": 30,
   "metadata": {},
   "outputs": [],
   "source": [
    "def get_grad(features, labels, weights, gamma):\n",
    "    \n",
    "    m = features.shape[0]\n",
    "    preds = predict(features, weights)\n",
    "    \n",
    "    # Gradient of cost function\n",
    "    grad = np.dot(features.T, (preds - labels))\n",
    "    \n",
    "    # Add gradient of regularisation term\n",
    "    regs = gamma*weights\n",
    "    regs[0] = 0\n",
    "    grad = grad + regs\n",
    "    \n",
    "    # Average grad per observation\n",
    "    return grad/m"
   ]
  },
  {
   "cell_type": "code",
   "execution_count": 31,
   "metadata": {},
   "outputs": [
    {
     "data": {
      "text/plain": [
       "array([ 0.01333333, 13.11543754, -0.77495361])"
      ]
     },
     "execution_count": 31,
     "metadata": {},
     "output_type": "execute_result"
    }
   ],
   "source": [
    "get_grad(X_train, y_train, init_weights, 100)"
   ]
  },
  {
   "cell_type": "markdown",
   "metadata": {},
   "source": [
    "Likely there will be virtually no difference here, but we would see the effect more clearly if we had more dimensions..."
   ]
  },
  {
   "cell_type": "markdown",
   "metadata": {},
   "source": [
    "## Variable step size"
   ]
  },
  {
   "cell_type": "markdown",
   "metadata": {},
   "source": [
    "Multiple possible approaches - but we'll implement a simple \"grow/slash\" method, which successively increases the learning rate at each iteration, and then reduces it dramatically when it is too large.\n",
    "\n",
    "We redefine our training method to include a `gamma` parameter (to control regularisation) and using the new adaptive learning rate."
   ]
  },
  {
   "cell_type": "code",
   "execution_count": 32,
   "metadata": {},
   "outputs": [],
   "source": [
    "def train(features, labels, init_weights, iters=1000, rate=0.1, gamma=0, tolerance=1e-6, verbose=True, report_level=100):\n",
    "\n",
    "    cost = get_cost(features, labels, init_weights, gamma)\n",
    "    \n",
    "    if verbose:\n",
    "        print(\"Training in progress...\")\n",
    "        print(\"\")\n",
    "        print(\"Iter | Cost\")\n",
    "        print(\"---- | ----\")\n",
    "        print(\"0000 |\", cost)\n",
    "\n",
    "    cost_history = np.empty(iters+1)\n",
    "    cost_history[0] = cost\n",
    "    weights = init_weights[:]\n",
    "    \n",
    "    for k in range(1, iters+1):\n",
    "        \n",
    "        # Update weights based on gradient of cost function\n",
    "        grad = get_grad(features, labels, weights, gamma)\n",
    "        \n",
    "        new_weights = weights - rate*grad\n",
    "        new_cost = get_cost(features, labels, new_weights, gamma)\n",
    "        \n",
    "        while np.isnan(new_cost) or new_cost > cost:\n",
    "            if verbose:\n",
    "                print(\"  Rate change!\", rate, \"->\", rate/2)\n",
    "            rate = rate/2\n",
    "            new_weights = weights - rate*grad\n",
    "            new_cost = get_cost(features, labels, new_weights, gamma)\n",
    "        \n",
    "        # Grow rate\n",
    "        rate = rate*1.1\n",
    "        \n",
    "        weights = new_weights\n",
    "        \n",
    "        # Stopping criterion\n",
    "        if abs(cost - new_cost) < tolerance:\n",
    "            if verbose:\n",
    "                print(\"Tolerance reached - terminating early!\")\n",
    "            \n",
    "            cost_history = cost_history[:k]\n",
    "            break\n",
    "            \n",
    "        else:        \n",
    "            cost = new_cost\n",
    "            cost_history[k] = cost\n",
    "        \n",
    "            if verbose and k % report_level == 0:\n",
    "                print(str(k).zfill(4), \"|\", cost)\n",
    "    \n",
    "    if verbose:\n",
    "        print(\"\")\n",
    "        print(\"Training complete!\")\n",
    "        print(\"Iterations completed:\", k)\n",
    "        print(\"Final cost:\", cost_history[-1])\n",
    "    \n",
    "    return weights, cost_history"
   ]
  },
  {
   "cell_type": "markdown",
   "metadata": {},
   "source": [
    "Let's retrain..."
   ]
  },
  {
   "cell_type": "code",
   "execution_count": 33,
   "metadata": {
    "scrolled": false
   },
   "outputs": [
    {
     "name": "stdout",
     "output_type": "stream",
     "text": [
      "Training in progress...\n",
      "\n",
      "Iter | Cost\n",
      "---- | ----\n",
      "0000 | 0.6931471805599453\n",
      "  Rate change! 1 -> 0.5\n",
      "  Rate change! 0.5 -> 0.25\n",
      "  Rate change! 0.25 -> 0.125\n",
      "  Rate change! 0.125 -> 0.0625\n",
      "  Rate change! 0.0625 -> 0.03125\n",
      "  Rate change! 0.03125 -> 0.015625\n",
      "0002 | 0.17558679495910615\n",
      "0004 | 0.16914013383163512\n",
      "0006 | 0.16376693074874116\n",
      "0008 | 0.15950186240550793\n",
      "0010 | 0.15629650797145545\n",
      "0012 | 0.15403143070168135\n",
      "0014 | 0.15254001330694555\n",
      "0016 | 0.15163648836825025\n",
      "0018 | 0.15114151837871323\n",
      "0020 | 0.15090157501473225\n",
      "0022 | 0.15080050055796923\n",
      "0024 | 0.1507624510500704\n",
      "0026 | 0.1507464412502737\n",
      "0028 | 0.150735182847062\n",
      "0030 | 0.15072336482050624\n",
      "0032 | 0.15070983619777578\n",
      "0034 | 0.15069436101736655\n",
      "0036 | 0.15067686073428302\n",
      "0038 | 0.150657351738181\n",
      "0040 | 0.15063597837373352\n",
      "0042 | 0.15061305187315166\n",
      "0044 | 0.15058908278872046\n",
      "0046 | 0.1505647945520386\n",
      "0048 | 0.15054110214549063\n",
      "0050 | 0.15051903980747267\n",
      "0052 | 0.15049962938639536\n",
      "0054 | 0.15048370001947808\n",
      "0056 | 0.15047171350129987\n",
      "  Rate change! 3.5743994123476157 -> 1.7871997061738079\n",
      "  Rate change! 1.7871997061738079 -> 0.8935998530869039\n",
      "  Rate change! 0.8935998530869039 -> 0.44679992654345196\n",
      "0058 | 0.15046703080131008\n",
      "Tolerance reached - terminating early!\n",
      "\n",
      "Training complete!\n",
      "Iterations completed: 59\n",
      "Final cost: 0.15046703080131008\n"
     ]
    },
    {
     "name": "stderr",
     "output_type": "stream",
     "text": [
      "C:\\Users\\ojones\\AppData\\Local\\Continuum\\miniconda3\\lib\\site-packages\\ipykernel_launcher.py:7: RuntimeWarning: divide by zero encountered in log\n",
      "  import sys\n",
      "C:\\Users\\ojones\\AppData\\Local\\Continuum\\miniconda3\\lib\\site-packages\\ipykernel_launcher.py:7: RuntimeWarning: invalid value encountered in multiply\n",
      "  import sys\n"
     ]
    }
   ],
   "source": [
    "optw, ch = train(X_train, y_train, init_weights, rate=1, gamma=100, iters=2000, report_level=2)"
   ]
  },
  {
   "cell_type": "markdown",
   "metadata": {},
   "source": [
    "Note that we converged and terminated in many fewer iterations!"
   ]
  },
  {
   "cell_type": "code",
   "execution_count": 34,
   "metadata": {
    "scrolled": true
   },
   "outputs": [
    {
     "data": {
      "text/plain": [
       "[<matplotlib.lines.Line2D at 0x28e979bda20>]"
      ]
     },
     "execution_count": 34,
     "metadata": {},
     "output_type": "execute_result"
    },
    {
     "data": {
      "image/png": "[encoded data removed]",
      "text/plain": [
       "<Figure size 432x288 with 1 Axes>"
      ]
     },
     "metadata": {
      "needs_background": "light"
     },
     "output_type": "display_data"
    }
   ],
   "source": [
    "plt.plot(ch)"
   ]
  },
  {
   "cell_type": "markdown",
   "metadata": {},
   "source": [
    "In particular note the sharper elbow in plot (as a result of adaptive rate).\n",
    "\n",
    "For now, we don't see much adaptation _during_ training... though it means we don't have to be quite so careful with our initial rate (we can just set it \"too high\" and let the backtracking work its way back down)."
   ]
  },
  {
   "cell_type": "markdown",
   "metadata": {},
   "source": [
    "We wouldn't expect our weights to be too different to before, though due to regularisation they might now be slightly smaller in magnitude."
   ]
  },
  {
   "cell_type": "code",
   "execution_count": 35,
   "metadata": {},
   "outputs": [
    {
     "data": {
      "text/plain": [
       "array([-0.1002087 , -0.24030256, -0.12069693])"
      ]
     },
     "execution_count": 35,
     "metadata": {},
     "output_type": "execute_result"
    }
   ],
   "source": [
    "optw"
   ]
  },
  {
   "cell_type": "markdown",
   "metadata": {},
   "source": [
    "Certainly we would hope that our accuracy and decision boundary are similar!"
   ]
  },
  {
   "cell_type": "code",
   "execution_count": 36,
   "metadata": {},
   "outputs": [],
   "source": [
    "preds = predict(X_val, optw)"
   ]
  },
  {
   "cell_type": "code",
   "execution_count": 37,
   "metadata": {},
   "outputs": [
    {
     "data": {
      "text/plain": [
       "0.96"
      ]
     },
     "execution_count": 37,
     "metadata": {},
     "output_type": "execute_result"
    }
   ],
   "source": [
    "preds_classes = classify(preds)\n",
    "accuracy(preds_classes, y_val)"
   ]
  },
  {
   "cell_type": "code",
   "execution_count": 38,
   "metadata": {
    "scrolled": false
   },
   "outputs": [
    {
     "data": {
      "image/png": "[encoded data removed]",
      "text/plain": [
       "<Figure size 432x288 with 1 Axes>"
      ]
     },
     "metadata": {
      "needs_background": "light"
     },
     "output_type": "display_data"
    }
   ],
   "source": [
    "plot_boundary(X_val, y_val, optw)"
   ]
  },
  {
   "cell_type": "markdown",
   "metadata": {},
   "source": [
    "We might now want to tune our hyperparameters - e.g. gamma - either by trial and error or some more methodical method such as grid search..."
   ]
  },
  {
   "cell_type": "code",
   "execution_count": 39,
   "metadata": {},
   "outputs": [
    {
     "name": "stdout",
     "output_type": "stream",
     "text": [
      "gamma: 0.1\n",
      "gamma: 0.3\n",
      "gamma: 1\n",
      "gamma: 3\n",
      "gamma: 10\n",
      "gamma: 30\n",
      "gamma: 100\n",
      "gamma: 300\n",
      "gamma: 1000\n",
      "gamma: 3000\n",
      "gamma: 10000\n"
     ]
    },
    {
     "name": "stderr",
     "output_type": "stream",
     "text": [
      "C:\\Users\\ojones\\AppData\\Local\\Continuum\\miniconda3\\lib\\site-packages\\ipykernel_launcher.py:7: RuntimeWarning: divide by zero encountered in log\n",
      "  import sys\n",
      "C:\\Users\\ojones\\AppData\\Local\\Continuum\\miniconda3\\lib\\site-packages\\ipykernel_launcher.py:7: RuntimeWarning: invalid value encountered in multiply\n",
      "  import sys\n"
     ]
    }
   ],
   "source": [
    "gammas = [0.1, 0.3, 1, 3, 10, 30, 100, 300, 1000, 3000, 10000]\n",
    "costs = []\n",
    "accs = []\n",
    "\n",
    "for gamma in gammas:\n",
    "    print(\"gamma:\", gamma)\n",
    "    optw, ch = train(X_train, y_train, init_weights, rate=1, gamma=gamma, iters=2000, verbose=False)\n",
    "    preds = predict(X_val, optw)\n",
    "    preds_classes = classify(preds)\n",
    "    accs.append(accuracy(preds_classes, y_val))\n",
    "    costs.append(ch[-1])"
   ]
  },
  {
   "cell_type": "code",
   "execution_count": 40,
   "metadata": {},
   "outputs": [
    {
     "data": {
      "image/png": "[encoded data removed]",
      "text/plain": [
       "<Figure size 432x288 with 1 Axes>"
      ]
     },
     "metadata": {
      "needs_background": "light"
     },
     "output_type": "display_data"
    }
   ],
   "source": [
    "plt.plot(gammas, costs)\n",
    "plt.xscale(\"log\")"
   ]
  },
  {
   "cell_type": "code",
   "execution_count": 41,
   "metadata": {},
   "outputs": [
    {
     "data": {
      "image/png": "[encoded data removed]",
      "text/plain": [
       "<Figure size 432x288 with 1 Axes>"
      ]
     },
     "metadata": {
      "needs_background": "light"
     },
     "output_type": "display_data"
    }
   ],
   "source": [
    "plt.plot(gammas, accs)\n",
    "plt.xscale(\"log\")"
   ]
  },
  {
   "cell_type": "markdown",
   "metadata": {},
   "source": [
    "Really it looks like our regularisation is having virtually no effect at all, until our scale parameter `gamma` is ridiculously large! And then, the effect is certainly not beneficial."
   ]
  },
  {
   "cell_type": "code",
   "execution_count": 42,
   "metadata": {},
   "outputs": [
    {
     "data": {
      "image/png": "[encoded data removed]",
      "text/plain": [
       "<Figure size 432x288 with 1 Axes>"
      ]
     },
     "metadata": {
      "needs_background": "light"
     },
     "output_type": "display_data"
    }
   ],
   "source": [
    "plot_boundary(X_val, y_val, optw)"
   ]
  },
  {
   "cell_type": "markdown",
   "metadata": {},
   "source": [
    "We'll choose `gamma=1` and retrain one last time. The performance on the test set then indicates how well we are likely to perform on unseen data."
   ]
  },
  {
   "cell_type": "code",
   "execution_count": 43,
   "metadata": {},
   "outputs": [],
   "source": [
    "optw, ch = train(X_train, y_train, init_weights, rate=0.01, gamma=1, iters=2000, verbose=False)"
   ]
  },
  {
   "cell_type": "code",
   "execution_count": 44,
   "metadata": {
    "scrolled": true
   },
   "outputs": [
    {
     "data": {
      "text/plain": [
       "0.945"
      ]
     },
     "execution_count": 44,
     "metadata": {},
     "output_type": "execute_result"
    }
   ],
   "source": [
    "preds = predict(X_test, optw)\n",
    "preds_classes = classify(preds)\n",
    "accuracy(preds_classes, y_test)"
   ]
  },
  {
   "cell_type": "code",
   "execution_count": 45,
   "metadata": {},
   "outputs": [
    {
     "data": {
      "image/png": "[encoded data removed]",
      "text/plain": [
       "<Figure size 432x288 with 1 Axes>"
      ]
     },
     "metadata": {
      "needs_background": "light"
     },
     "output_type": "display_data"
    }
   ],
   "source": [
    "plot_boundary(X_test, y_test, optw)"
   ]
  },
  {
   "cell_type": "markdown",
   "metadata": {},
   "source": [
    "## Experimental: Generating higher-dimensional problems"
   ]
  },
  {
   "cell_type": "markdown",
   "metadata": {},
   "source": [
    "Choose negative/positive range - all positive leads to potentially all observations on one side of boundary."
   ]
  },
  {
   "cell_type": "code",
   "execution_count": 46,
   "metadata": {},
   "outputs": [],
   "source": [
    "m = 10000\n",
    "d = 3000\n",
    "\n",
    "X = np.random.uniform(-1, 1, size=(m, d))"
   ]
  },
  {
   "cell_type": "code",
   "execution_count": 47,
   "metadata": {},
   "outputs": [
    {
     "data": {
      "text/plain": [
       "(10000, 3000)"
      ]
     },
     "execution_count": 47,
     "metadata": {},
     "output_type": "execute_result"
    }
   ],
   "source": [
    "X.shape"
   ]
  },
  {
   "cell_type": "markdown",
   "metadata": {},
   "source": [
    "`gamma` will control the spread of results shortly, and will correspond to regularisation later..."
   ]
  },
  {
   "cell_type": "code",
   "execution_count": 48,
   "metadata": {},
   "outputs": [],
   "source": [
    "gamma = 0.3\n",
    "w = np.random.normal(0, gamma**2, size=d)"
   ]
  },
  {
   "cell_type": "code",
   "execution_count": 49,
   "metadata": {},
   "outputs": [
    {
     "data": {
      "text/plain": [
       "(3000,)"
      ]
     },
     "execution_count": 49,
     "metadata": {},
     "output_type": "execute_result"
    }
   ],
   "source": [
    "w.shape"
   ]
  },
  {
   "cell_type": "code",
   "execution_count": 50,
   "metadata": {},
   "outputs": [],
   "source": [
    "mu = sigmoid(np.dot(X, w))"
   ]
  },
  {
   "cell_type": "code",
   "execution_count": 51,
   "metadata": {},
   "outputs": [
    {
     "data": {
      "text/plain": [
       "(10000,)"
      ]
     },
     "execution_count": 51,
     "metadata": {},
     "output_type": "execute_result"
    }
   ],
   "source": [
    "mu.shape"
   ]
  },
  {
   "cell_type": "markdown",
   "metadata": {},
   "source": [
    "We expect our linear outputs to be approximately normal here, since `w` is normal."
   ]
  },
  {
   "cell_type": "code",
   "execution_count": 52,
   "metadata": {
    "scrolled": false
   },
   "outputs": [
    {
     "data": {
      "text/plain": [
       "(array([  20.,  137.,  755., 2008., 2885., 2547., 1226.,  365.,   50.,\n",
       "           7.]), array([-10.36255555,  -8.17410153,  -5.98564751,  -3.79719348,\n",
       "         -1.60873946,   0.57971456,   2.76816858,   4.95662261,\n",
       "          7.14507663,   9.33353065,  11.52198467]), <a list of 10 Patch objects>)"
      ]
     },
     "execution_count": 52,
     "metadata": {},
     "output_type": "execute_result"
    },
    {
     "data": {
      "image/png": "[encoded data removed]",
      "text/plain": [
       "<Figure size 432x288 with 1 Axes>"
      ]
     },
     "metadata": {
      "needs_background": "light"
     },
     "output_type": "display_data"
    }
   ],
   "source": [
    "plt.hist(np.dot(X, w))"
   ]
  },
  {
   "cell_type": "markdown",
   "metadata": {},
   "source": [
    "And we want our activated outputs to fall in general close to 0 or 1, but with some intermediate values for the sake of interest."
   ]
  },
  {
   "cell_type": "code",
   "execution_count": 53,
   "metadata": {
    "scrolled": false
   },
   "outputs": [
    {
     "data": {
      "text/plain": [
       "(array([2229.,  947.,  735.,  574.,  520.,  562.,  581.,  722.,  944.,\n",
       "        2186.]),\n",
       " array([3.15926158e-05, 1.00027442e-01, 2.00023292e-01, 3.00019142e-01,\n",
       "        4.00014992e-01, 5.00010841e-01, 6.00006691e-01, 7.00002541e-01,\n",
       "        7.99998391e-01, 8.99994241e-01, 9.99990090e-01]),\n",
       " <a list of 10 Patch objects>)"
      ]
     },
     "execution_count": 53,
     "metadata": {},
     "output_type": "execute_result"
    },
    {
     "data": {
      "image/png": "[encoded data removed]",
      "text/plain": [
       "<Figure size 432x288 with 1 Axes>"
      ]
     },
     "metadata": {
      "needs_background": "light"
     },
     "output_type": "display_data"
    }
   ],
   "source": [
    "plt.hist(mu)"
   ]
  },
  {
   "cell_type": "markdown",
   "metadata": {},
   "source": [
    "We now generate labels which are 1 with a probability of `mu` (activated output), and 0 otherwise, for each observation."
   ]
  },
  {
   "cell_type": "code",
   "execution_count": 54,
   "metadata": {},
   "outputs": [],
   "source": [
    "y = np.random.binomial(1, mu, size=m)"
   ]
  },
  {
   "cell_type": "markdown",
   "metadata": {},
   "source": [
    "With symmetry of sigmoid, we expect approx hald of our observations to have a label of 1, and half of 0..."
   ]
  },
  {
   "cell_type": "code",
   "execution_count": 55,
   "metadata": {},
   "outputs": [
    {
     "data": {
      "text/plain": [
       "4926"
      ]
     },
     "execution_count": 55,
     "metadata": {},
     "output_type": "execute_result"
    }
   ],
   "source": [
    "sum(y)"
   ]
  },
  {
   "cell_type": "markdown",
   "metadata": {},
   "source": [
    "Now we proceed to train as before on this data."
   ]
  },
  {
   "cell_type": "code",
   "execution_count": 56,
   "metadata": {},
   "outputs": [],
   "source": [
    "X_train, y_train, X_val, y_val, X_test, y_test = make_sets(X, y, [0.6, 0.2, 0.2])"
   ]
  },
  {
   "cell_type": "code",
   "execution_count": 57,
   "metadata": {},
   "outputs": [],
   "source": [
    "init_w = np.random.uniform(-0.1, 0.1, d)"
   ]
  },
  {
   "cell_type": "code",
   "execution_count": 58,
   "metadata": {},
   "outputs": [
    {
     "name": "stdout",
     "output_type": "stream",
     "text": [
      "Training in progress...\n",
      "\n",
      "Iter | Cost\n",
      "---- | ----\n",
      "0000 | 1.011704686695222\n",
      "0005 | 0.28233903497141793\n",
      "0010 | 0.19265892890934527\n",
      "0015 | 0.14438333626161776\n",
      "0020 | 0.11066062834924285\n",
      "0025 | 0.08596094550219581\n",
      "0030 | 0.06876567797410332\n",
      "0035 | 0.058217204070738805\n",
      "  Rate change! 123.650722131483 -> 61.8253610657415\n",
      "  Rate change! 61.8253610657415 -> 30.91268053287075\n",
      "0040 | 0.05603689094547328\n",
      "  Rate change! 45.25925556817607 -> 22.629627784088036\n",
      "0045 | 0.05439981363583461\n",
      "0050 | 0.05324755917052514\n",
      "  Rate change! 71.02146599221592 -> 35.51073299610796\n",
      "0055 | 0.05243126444700643\n",
      "  Rate change! 57.19039059756185 -> 28.595195298780926\n",
      "0060 | 0.0519298019520018\n",
      "0065 | 0.05152549139434756\n",
      "  Rate change! 74.16857220130005 -> 37.084286100650026\n",
      "0070 | 0.051229069866970595\n",
      "  Rate change! 49.3591847999652 -> 24.6795923999826\n",
      "  Rate change! 27.14755163998086 -> 13.57377581999043\n",
      "  Rate change! 13.57377581999043 -> 6.786887909995215\n",
      "  Rate change!"
     ]
    },
    {
     "name": "stderr",
     "output_type": "stream",
     "text": [
      "C:\\Users\\ojones\\AppData\\Local\\Continuum\\miniconda3\\lib\\site-packages\\ipykernel_launcher.py:7: RuntimeWarning: divide by zero encountered in log\n",
      "  import sys\n",
      "C:\\Users\\ojones\\AppData\\Local\\Continuum\\miniconda3\\lib\\site-packages\\ipykernel_launcher.py:7: RuntimeWarning: invalid value encountered in multiply\n",
      "  import sys\n"
     ]
    },
    {
     "name": "stdout",
     "output_type": "stream",
     "text": [
      " 6.786887909995215 -> 3.3934439549976076\n",
      "  Rate change! 3.7327883504973687 -> 1.8663941752486843\n",
      "  Rate change! 1.8663941752486843 -> 0.9331970876243422\n",
      "  Rate change! 0.9331970876243422 -> 0.4665985438121711\n",
      "  Rate change! 0.4665985438121711 -> 0.23329927190608554\n",
      "  Rate change! 0.23329927190608554 -> 0.11664963595304277\n",
      "Tolerance reached - terminating early!\n",
      "\n",
      "Training complete!\n",
      "Iterations completed: 73\n",
      "Final cost: 0.051184333648648606\n"
     ]
    }
   ],
   "source": [
    "optw, ch = train(X_train, y_train, init_w, rate=4, gamma=1, iters=5000, report_level=5)"
   ]
  },
  {
   "cell_type": "code",
   "execution_count": 59,
   "metadata": {},
   "outputs": [
    {
     "data": {
      "text/plain": [
       "[<matplotlib.lines.Line2D at 0x28ea72c3dd8>]"
      ]
     },
     "execution_count": 59,
     "metadata": {},
     "output_type": "execute_result"
    },
    {
     "data": {
      "image/png": "[encoded data removed]",
      "text/plain": [
       "<Figure size 432x288 with 1 Axes>"
      ]
     },
     "metadata": {
      "needs_background": "light"
     },
     "output_type": "display_data"
    }
   ],
   "source": [
    "plt.plot(ch)"
   ]
  },
  {
   "cell_type": "code",
   "execution_count": 60,
   "metadata": {},
   "outputs": [
    {
     "data": {
      "text/plain": [
       "1.0"
      ]
     },
     "execution_count": 60,
     "metadata": {},
     "output_type": "execute_result"
    }
   ],
   "source": [
    "preds = predict(X_train, optw)\n",
    "preds_classes = classify(preds)\n",
    "accuracy(preds_classes, y_train)"
   ]
  },
  {
   "cell_type": "code",
   "execution_count": 61,
   "metadata": {},
   "outputs": [],
   "source": [
    "preds = predict(X_val, optw)\n",
    "preds_classes = classify(preds)"
   ]
  },
  {
   "cell_type": "code",
   "execution_count": 62,
   "metadata": {},
   "outputs": [
    {
     "data": {
      "text/plain": [
       "0.707"
      ]
     },
     "execution_count": 62,
     "metadata": {},
     "output_type": "execute_result"
    }
   ],
   "source": [
    "accuracy(preds_classes, y_val)"
   ]
  },
  {
   "cell_type": "markdown",
   "metadata": {},
   "source": [
    "If we try a few different values for `gamma`, we _should_ observe that our highest accuracy comes at the `gamma` value we used during our data generation process..."
   ]
  },
  {
   "cell_type": "code",
   "execution_count": 63,
   "metadata": {
    "scrolled": true
   },
   "outputs": [
    {
     "name": "stdout",
     "output_type": "stream",
     "text": [
      "Training with gamma=0.01\n"
     ]
    },
    {
     "name": "stderr",
     "output_type": "stream",
     "text": [
      "C:\\Users\\ojones\\AppData\\Local\\Continuum\\miniconda3\\lib\\site-packages\\ipykernel_launcher.py:7: RuntimeWarning: divide by zero encountered in log\n",
      "  import sys\n",
      "C:\\Users\\ojones\\AppData\\Local\\Continuum\\miniconda3\\lib\\site-packages\\ipykernel_launcher.py:7: RuntimeWarning: invalid value encountered in multiply\n",
      "  import sys\n"
     ]
    },
    {
     "name": "stdout",
     "output_type": "stream",
     "text": [
      "Training with gamma=0.03\n",
      "Training with gamma=0.1\n",
      "Training with gamma=0.3\n",
      "Training with gamma=1\n",
      "Training with gamma=3\n",
      "Training with gamma=10\n",
      "Training with gamma=30\n",
      "Training with gamma=100\n",
      "Training with gamma=300\n"
     ]
    }
   ],
   "source": [
    "gammas = [0.01, 0.03, 0.1, 0.3, 1, 3, 10, 30, 100, 300]\n",
    "accs = []\n",
    "final_costs = []\n",
    "\n",
    "for gamma in gammas:\n",
    "    print(\"Training with gamma=\" + str(gamma))\n",
    "    optw, ch = train(X_train, y_train, init_w, rate=4, gamma=gamma, iters=5000, verbose=False)\n",
    "    preds = predict(X_val, optw)\n",
    "    preds_classes = classify(preds)\n",
    "    accs.append(accuracy(preds_classes, y_val))\n",
    "    final_costs.append(ch[-1])"
   ]
  },
  {
   "cell_type": "code",
   "execution_count": 64,
   "metadata": {
    "scrolled": true
   },
   "outputs": [
    {
     "data": {
      "image/png": "[encoded data removed]",
      "text/plain": [
       "<Figure size 432x288 with 1 Axes>"
      ]
     },
     "metadata": {
      "needs_background": "light"
     },
     "output_type": "display_data"
    }
   ],
   "source": [
    "plt.plot(gammas, final_costs)\n",
    "plt.xscale(\"log\")"
   ]
  },
  {
   "cell_type": "code",
   "execution_count": 65,
   "metadata": {},
   "outputs": [
    {
     "data": {
      "image/png": "[encoded data removed]",
      "text/plain": [
       "<Figure size 432x288 with 1 Axes>"
      ]
     },
     "metadata": {
      "needs_background": "light"
     },
     "output_type": "display_data"
    }
   ],
   "source": [
    "plt.plot(gammas, accs)\n",
    "plt.xscale(\"log\")"
   ]
  },
  {
   "cell_type": "markdown",
   "metadata": {},
   "source": [
    "The results seem inconclusive, but for now we'll move on."
   ]
  }
 ],
 "metadata": {
  "kernelspec": {
   "display_name": "Python 3",
   "language": "python",
   "name": "python3"
  },
  "language_info": {
   "codemirror_mode": {
    "name": "ipython",
    "version": 3
   },
   "file_extension": ".py",
   "mimetype": "text/x-python",
   "name": "python",
   "nbconvert_exporter": "python",
   "pygments_lexer": "ipython3",
   "version": "3.7.3"
  }
 },
 "nbformat": 4,
 "nbformat_minor": 2
}
