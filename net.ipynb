{
 "cells": [
  {
   "cell_type": "code",
   "execution_count": 1,
   "metadata": {},
   "outputs": [],
   "source": [
    "import numpy as np"
   ]
  },
  {
   "cell_type": "code",
   "execution_count": 207,
   "metadata": {},
   "outputs": [],
   "source": [
    "X = np.random.normal(0, 1, size=(1000, 20))\n",
    "y = np.random.randint(4, size=1000)"
   ]
  },
  {
   "cell_type": "code",
   "execution_count": null,
   "metadata": {},
   "outputs": [],
   "source": []
  },
  {
   "cell_type": "code",
   "execution_count": 282,
   "metadata": {},
   "outputs": [],
   "source": [
    "class Layer(object):\n",
    "    \n",
    "    def __init__(self, input_size, output_size, activation):\n",
    "        \n",
    "        self.input_size = input_size\n",
    "        self.output_size = output_size\n",
    "        \n",
    "        activations = {\n",
    "            \"none\": lambda z: z,\n",
    "            \"relu\": lambda z: max(0, z),\n",
    "            \"sigmoid\": lambda z: 1/(1 + np.exp(-z)),\n",
    "            \"softmax\": lambda z: np.exp(z)/np.exp(z).sum()\n",
    "        }\n",
    "        \n",
    "        activation_derivs = {\n",
    "            \"none\": lambda z: 1,\n",
    "            \"relu\": lambda z: 1 if z > 0 else 1,\n",
    "            \"sigmoid\": lambda z: 1/(1 + np.exp(-z)) * (1 - 1/(1 + np.exp(-z))),\n",
    "            \"softmax\": lambda z: z # TODO\n",
    "        }\n",
    "        \n",
    "        self.activation_name = activation\n",
    "        self.activation_fun = activations.get(activation)\n",
    "        self.activation_deriv_fun = activation_derivs.get(activation)\n",
    "    "
   ]
  },
  {
   "cell_type": "code",
   "execution_count": 283,
   "metadata": {},
   "outputs": [],
   "source": [
    "class Input(Layer):\n",
    "    \n",
    "    def __init__(self, output_size, activation=\"none\"):\n",
    "        super().__init__(output_size, output_size, activation)\n",
    "        self.weights = np.empty(0)\n",
    "    \n",
    "    def process(self, inputs):\n",
    "        self.raw_output = inputs\n",
    "        self.output = self.activation_fun(self.raw_output)\n",
    "        return self.output"
   ]
  },
  {
   "cell_type": "code",
   "execution_count": 284,
   "metadata": {},
   "outputs": [],
   "source": [
    "class Dense(Layer):\n",
    "    \n",
    "    def __init__(self, input_size, output_size, activation=\"sigmoid\", add_bias=True):\n",
    "        super().__init__(input_size, output_size, activation)\n",
    "        self.add_bias = add_bias\n",
    "        self.weights = np.random.uniform(\n",
    "            -0.1, 0.1,\n",
    "            size=(self.input_size + 1 if self.add_bias else self.input_size,\n",
    "                  self.output_size)\n",
    "        )\n",
    "    \n",
    "\n",
    "    def process(self, inputs):\n",
    "        m = inputs.shape[0]\n",
    "        self.raw_output = np.matmul(\n",
    "            np.hstack((np.ones((m, 1)), inputs)) if self.add_bias else inputs,\n",
    "            self.weights\n",
    "        )\n",
    "        self.output = self.activation_fun(self.raw_output)\n",
    "        return self.output\n",
    "    \n",
    "    \n",
    "    def calculate_error(self, next_error):\n",
    "        # Omit bias weights\n",
    "        self.error = np.matmul(\n",
    "            next_error, \n",
    "            self.weights[:, 1:] if self.add_bias else self.weights\n",
    "        ) * self.activation_deriv_fun(self.raw_output)\n",
    "        return self.error\n",
    "    \n",
    "    def update_weights(self, meh):\n",
    "        pass"
   ]
  },
  {
   "cell_type": "code",
   "execution_count": 285,
   "metadata": {},
   "outputs": [],
   "source": [
    "X = np.random.normal(0, 1, size=(1000, 20))"
   ]
  },
  {
   "cell_type": "code",
   "execution_count": 286,
   "metadata": {},
   "outputs": [],
   "source": [
    "layer1 = Dense(20, 10, \"sigmoid\")"
   ]
  },
  {
   "cell_type": "code",
   "execution_count": null,
   "metadata": {},
   "outputs": [],
   "source": []
  },
  {
   "cell_type": "code",
   "execution_count": 287,
   "metadata": {},
   "outputs": [],
   "source": [
    "class Network(object):\n",
    "    \n",
    "    def __init__(self, layers):\n",
    "        self.layers = layers\n",
    "        self.output_size = layers[-1].output_size\n",
    "    \n",
    "    \n",
    "    def show(self):\n",
    "        k = 0\n",
    "        for layer in self.layers:\n",
    "            print(\"Layer {0}: {1}, {2} -> {3}, {4}\".format(\n",
    "                k, \n",
    "                type(layer).__name__,\n",
    "                layer.input_size,\n",
    "                layer.output_size,\n",
    "                layer.activation_name\n",
    "            ))\n",
    "            k = k+1\n",
    "    \n",
    "    \n",
    "    def predict(self, data, classes=True):\n",
    "        outputs = data\n",
    "        for k in range(len(self.layers)):\n",
    "            outputs = self.layers[k].process(outputs)\n",
    "        return np.argmax(outputs, axis=1) if classes else outputs\n",
    "    \n",
    "    \n",
    "    def get_cost(self, data, labels, penalty=0):\n",
    "        m = data.shape[0]\n",
    "        preds = self.predict(data, classes=False)\n",
    "        \n",
    "        cost = (-1/m) * (np.log(preds) * np.eye(self.output_size)[:, labels].T +\n",
    "                         np.log(1-preds) * (1 - np.eye(self.output_size)[:, labels]).T).sum()\n",
    "        \n",
    "        # Add regularisation\n",
    "        cost = cost + (penalty/m) * sum([(layer.weights**2).sum() for layer in self.layers])\n",
    "        return cost\n",
    "    \n",
    "    \n",
    "    def get_weights(self):\n",
    "        return np.concatenate([layer.weights.flatten() for layer in self.layers])\n",
    "    \n",
    "    \n",
    "    def get_weights_grads(self, data, labels, penalty=0):\n",
    "        m = data.shape[0]\n",
    "        preds = self.predict(data, classes=False)\n",
    "        \n",
    "        # The \"k+1st\" error actually gets stored in Input layer - all fine!\n",
    "        self.layers[0].error = preds - np.eye(self.output_size)[:, labels].T\n",
    "        all_grads = np.empty(0)\n",
    "        \n",
    "        for k in range(len(self.layers)):\n",
    "            error = self.layers[-k-1].calculate_error(self.layers[-k].error)\n",
    "            accumulator = 1/m * np.matmul(error.T, self.layers[-k-2].output)\n",
    "            # Compute regularisation term\n",
    "            reg = (penalty/m) * layer.weights\n",
    "            reg[:, 0] = 0\n",
    "            \n",
    "            grads = (accumulator + reg).flatten()\n",
    "            all_grads = np.concatenate(all_grads, grads)\n",
    "        \n",
    "        return all_grads\n",
    "    "
   ]
  },
  {
   "cell_type": "code",
   "execution_count": 288,
   "metadata": {},
   "outputs": [],
   "source": [
    "model = Network(\n",
    "    layers=[\n",
    "        Input(20),\n",
    "        Dense(20, 10, \"sigmoid\"),\n",
    "        Dense(10, 4, \"softmax\")\n",
    "    ]\n",
    ")"
   ]
  },
  {
   "cell_type": "code",
   "execution_count": 289,
   "metadata": {},
   "outputs": [
    {
     "name": "stdout",
     "output_type": "stream",
     "text": [
      "Layer 0: Input, 20 -> 20, none\n",
      "Layer 1: Dense, 20 -> 10, sigmoid\n",
      "Layer 2: Dense, 10 -> 4, softmax\n"
     ]
    }
   ],
   "source": [
    "model.show()"
   ]
  },
  {
   "cell_type": "code",
   "execution_count": 290,
   "metadata": {},
   "outputs": [
    {
     "data": {
      "text/plain": [
       "(1000, 4)"
      ]
     },
     "execution_count": 290,
     "metadata": {},
     "output_type": "execute_result"
    }
   ],
   "source": [
    "model.predict(X, classes=False).shape"
   ]
  },
  {
   "cell_type": "code",
   "execution_count": 291,
   "metadata": {},
   "outputs": [
    {
     "data": {
      "text/plain": [
       "8.30120814335824"
      ]
     },
     "execution_count": 291,
     "metadata": {},
     "output_type": "execute_result"
    }
   ],
   "source": [
    "model.get_cost(X, y, penalty=1)"
   ]
  },
  {
   "cell_type": "code",
   "execution_count": null,
   "metadata": {},
   "outputs": [],
   "source": []
  },
  {
   "cell_type": "code",
   "execution_count": 292,
   "metadata": {},
   "outputs": [
    {
     "data": {
      "text/plain": [
       "(254,)"
      ]
     },
     "execution_count": 292,
     "metadata": {},
     "output_type": "execute_result"
    }
   ],
   "source": [
    "model.get_weights().shape"
   ]
  },
  {
   "cell_type": "code",
   "execution_count": 293,
   "metadata": {},
   "outputs": [
    {
     "ename": "ValueError",
     "evalue": "shapes (1000,4) and (11,3) not aligned: 4 (dim 1) != 11 (dim 0)",
     "output_type": "error",
     "traceback": [
      "\u001b[1;31m---------------------------------------------------------------------------\u001b[0m",
      "\u001b[1;31mValueError\u001b[0m                                Traceback (most recent call last)",
      "\u001b[1;32m<ipython-input-293-e5afdf59d69d>\u001b[0m in \u001b[0;36m<module>\u001b[1;34m\u001b[0m\n\u001b[1;32m----> 1\u001b[1;33m \u001b[0mmodel\u001b[0m\u001b[1;33m.\u001b[0m\u001b[0mget_weights_grads\u001b[0m\u001b[1;33m(\u001b[0m\u001b[0mX\u001b[0m\u001b[1;33m,\u001b[0m \u001b[0my\u001b[0m\u001b[1;33m)\u001b[0m\u001b[1;33m\u001b[0m\u001b[1;33m\u001b[0m\u001b[0m\n\u001b[0m",
      "\u001b[1;32m<ipython-input-287-8f9242be6184>\u001b[0m in \u001b[0;36mget_weights_grads\u001b[1;34m(self, data, labels, penalty)\u001b[0m\n\u001b[0;32m     51\u001b[0m \u001b[1;33m\u001b[0m\u001b[0m\n\u001b[0;32m     52\u001b[0m         \u001b[1;32mfor\u001b[0m \u001b[0mk\u001b[0m \u001b[1;32min\u001b[0m \u001b[0mrange\u001b[0m\u001b[1;33m(\u001b[0m\u001b[0mlen\u001b[0m\u001b[1;33m(\u001b[0m\u001b[0mself\u001b[0m\u001b[1;33m.\u001b[0m\u001b[0mlayers\u001b[0m\u001b[1;33m)\u001b[0m\u001b[1;33m)\u001b[0m\u001b[1;33m:\u001b[0m\u001b[1;33m\u001b[0m\u001b[1;33m\u001b[0m\u001b[0m\n\u001b[1;32m---> 53\u001b[1;33m             \u001b[0merror\u001b[0m \u001b[1;33m=\u001b[0m \u001b[0mself\u001b[0m\u001b[1;33m.\u001b[0m\u001b[0mlayers\u001b[0m\u001b[1;33m[\u001b[0m\u001b[1;33m-\u001b[0m\u001b[0mk\u001b[0m\u001b[1;33m-\u001b[0m\u001b[1;36m1\u001b[0m\u001b[1;33m]\u001b[0m\u001b[1;33m.\u001b[0m\u001b[0mcalculate_error\u001b[0m\u001b[1;33m(\u001b[0m\u001b[0mself\u001b[0m\u001b[1;33m.\u001b[0m\u001b[0mlayers\u001b[0m\u001b[1;33m[\u001b[0m\u001b[1;33m-\u001b[0m\u001b[0mk\u001b[0m\u001b[1;33m]\u001b[0m\u001b[1;33m.\u001b[0m\u001b[0merror\u001b[0m\u001b[1;33m)\u001b[0m\u001b[1;33m\u001b[0m\u001b[1;33m\u001b[0m\u001b[0m\n\u001b[0m\u001b[0;32m     54\u001b[0m             \u001b[0maccumulator\u001b[0m \u001b[1;33m=\u001b[0m \u001b[1;36m1\u001b[0m\u001b[1;33m/\u001b[0m\u001b[0mm\u001b[0m \u001b[1;33m*\u001b[0m \u001b[0mnp\u001b[0m\u001b[1;33m.\u001b[0m\u001b[0mmatmul\u001b[0m\u001b[1;33m(\u001b[0m\u001b[0merror\u001b[0m\u001b[1;33m.\u001b[0m\u001b[0mT\u001b[0m\u001b[1;33m,\u001b[0m \u001b[0mself\u001b[0m\u001b[1;33m.\u001b[0m\u001b[0mlayers\u001b[0m\u001b[1;33m[\u001b[0m\u001b[1;33m-\u001b[0m\u001b[0mk\u001b[0m\u001b[1;33m-\u001b[0m\u001b[1;36m2\u001b[0m\u001b[1;33m]\u001b[0m\u001b[1;33m.\u001b[0m\u001b[0moutput\u001b[0m\u001b[1;33m)\u001b[0m\u001b[1;33m\u001b[0m\u001b[1;33m\u001b[0m\u001b[0m\n\u001b[0;32m     55\u001b[0m             \u001b[1;31m# Compute regularisation term\u001b[0m\u001b[1;33m\u001b[0m\u001b[1;33m\u001b[0m\u001b[1;33m\u001b[0m\u001b[0m\n",
      "\u001b[1;32m<ipython-input-284-a85e34c8e811>\u001b[0m in \u001b[0;36mcalculate_error\u001b[1;34m(self, next_error)\u001b[0m\n\u001b[0;32m     25\u001b[0m         self.error = np.matmul(\n\u001b[0;32m     26\u001b[0m             \u001b[0mnext_error\u001b[0m\u001b[1;33m,\u001b[0m\u001b[1;33m\u001b[0m\u001b[1;33m\u001b[0m\u001b[0m\n\u001b[1;32m---> 27\u001b[1;33m             \u001b[0mself\u001b[0m\u001b[1;33m.\u001b[0m\u001b[0mweights\u001b[0m\u001b[1;33m[\u001b[0m\u001b[1;33m:\u001b[0m\u001b[1;33m,\u001b[0m \u001b[1;36m1\u001b[0m\u001b[1;33m:\u001b[0m\u001b[1;33m]\u001b[0m \u001b[1;32mif\u001b[0m \u001b[0mself\u001b[0m\u001b[1;33m.\u001b[0m\u001b[0madd_bias\u001b[0m \u001b[1;32melse\u001b[0m \u001b[0mself\u001b[0m\u001b[1;33m.\u001b[0m\u001b[0mweights\u001b[0m\u001b[1;33m\u001b[0m\u001b[1;33m\u001b[0m\u001b[0m\n\u001b[0m\u001b[0;32m     28\u001b[0m         ) * self.activation_deriv_fun(self.raw_output)\n\u001b[0;32m     29\u001b[0m         \u001b[1;32mreturn\u001b[0m \u001b[0mself\u001b[0m\u001b[1;33m.\u001b[0m\u001b[0merror\u001b[0m\u001b[1;33m\u001b[0m\u001b[1;33m\u001b[0m\u001b[0m\n",
      "\u001b[1;31mValueError\u001b[0m: shapes (1000,4) and (11,3) not aligned: 4 (dim 1) != 11 (dim 0)"
     ]
    }
   ],
   "source": [
    "model.get_weights_grads(X, y)"
   ]
  },
  {
   "cell_type": "code",
   "execution_count": null,
   "metadata": {},
   "outputs": [],
   "source": []
  },
  {
   "cell_type": "code",
   "execution_count": null,
   "metadata": {},
   "outputs": [],
   "source": []
  },
  {
   "cell_type": "code",
   "execution_count": null,
   "metadata": {},
   "outputs": [],
   "source": []
  },
  {
   "cell_type": "code",
   "execution_count": null,
   "metadata": {},
   "outputs": [],
   "source": []
  },
  {
   "cell_type": "code",
   "execution_count": null,
   "metadata": {},
   "outputs": [],
   "source": []
  },
  {
   "cell_type": "code",
   "execution_count": null,
   "metadata": {},
   "outputs": [],
   "source": []
  },
  {
   "cell_type": "code",
   "execution_count": null,
   "metadata": {},
   "outputs": [],
   "source": []
  },
  {
   "cell_type": "code",
   "execution_count": null,
   "metadata": {},
   "outputs": [],
   "source": [
    " "
   ]
  }
 ],
 "metadata": {
  "kernelspec": {
   "display_name": "Python 3",
   "language": "python",
   "name": "python3"
  },
  "language_info": {
   "codemirror_mode": {
    "name": "ipython",
    "version": 3
   },
   "file_extension": ".py",
   "mimetype": "text/x-python",
   "name": "python",
   "nbconvert_exporter": "python",
   "pygments_lexer": "ipython3",
   "version": "3.6.7"
  }
 },
 "nbformat": 4,
 "nbformat_minor": 2
}
