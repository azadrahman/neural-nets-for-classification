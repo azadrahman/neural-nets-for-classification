{
 "cells": [
  {
   "cell_type": "code",
   "execution_count": 1,
   "metadata": {},
   "outputs": [],
   "source": [
    "import numpy as np"
   ]
  },
  {
   "cell_type": "code",
   "execution_count": null,
   "metadata": {},
   "outputs": [],
   "source": []
  },
  {
   "cell_type": "code",
   "execution_count": null,
   "metadata": {},
   "outputs": [],
   "source": []
  },
  {
   "cell_type": "code",
   "execution_count": 19,
   "metadata": {},
   "outputs": [],
   "source": [
    "class Layer(object):\n",
    "    \n",
    "    def __init__(self, inputs, output_size, activation=\"sigmoid\"):\n",
    "        \n",
    "        self.all_activations = {\n",
    "            \"none\": lambda z: z,\n",
    "            \"sigmoid\": lambda z: 1/(1 + np.exp(-z)),\n",
    "            \"softmax\": lambda z: np.exp(z)/np.exp(z).sum()\n",
    "        }\n",
    "        \n",
    "        self.activation = self.all_activations.get(activation)\n",
    "        \n",
    "        self.input_size = inputs.shape[1]\n",
    "        self.output_size = output_size\n",
    "        \n",
    "        self.weights = np.random.uniform(-0.1, 0.1, size=(self.input_size, self.output_size))\n",
    "        \n",
    "        self.inputs = inputs\n",
    "        self.raw_outputs = np.matmul(self.inputs, self.weights)\n",
    "        self.outputs = self.activation(self.raw_outputs)\n",
    "    \n",
    "    def update(self, grads):\n",
    "        pass\n",
    "    \n",
    "    "
   ]
  },
  {
   "cell_type": "code",
   "execution_count": 20,
   "metadata": {},
   "outputs": [],
   "source": [
    "X = np.random.normal(0, 1, size=(1000, 20))"
   ]
  },
  {
   "cell_type": "code",
   "execution_count": 21,
   "metadata": {},
   "outputs": [],
   "source": [
    "layer1 = Layer(X, 10, \"sigmoid\")"
   ]
  },
  {
   "cell_type": "code",
   "execution_count": 25,
   "metadata": {},
   "outputs": [
    {
     "data": {
      "text/plain": [
       "array([[0.4794893 , 0.52408661, 0.60534428, ..., 0.41116653, 0.54642949,\n",
       "        0.45923938],\n",
       "       [0.48979275, 0.42032097, 0.40922738, ..., 0.39689806, 0.47133026,\n",
       "        0.47805079],\n",
       "       [0.61821863, 0.52032694, 0.49502766, ..., 0.46977009, 0.41468839,\n",
       "        0.50719079],\n",
       "       ...,\n",
       "       [0.5098662 , 0.47108746, 0.52990785, ..., 0.57320637, 0.47352743,\n",
       "        0.54921469],\n",
       "       [0.56148078, 0.49170364, 0.6390888 , ..., 0.41181242, 0.44571565,\n",
       "        0.43542324],\n",
       "       [0.48568229, 0.3709448 , 0.38438419, ..., 0.47958778, 0.41786065,\n",
       "        0.5557361 ]])"
      ]
     },
     "execution_count": 25,
     "metadata": {},
     "output_type": "execute_result"
    }
   ],
   "source": [
    "layer1.outputs"
   ]
  },
  {
   "cell_type": "code",
   "execution_count": null,
   "metadata": {},
   "outputs": [],
   "source": []
  }
 ],
 "metadata": {
  "kernelspec": {
   "display_name": "Python 3",
   "language": "python",
   "name": "python3"
  },
  "language_info": {
   "codemirror_mode": {
    "name": "ipython",
    "version": 3
   },
   "file_extension": ".py",
   "mimetype": "text/x-python",
   "name": "python",
   "nbconvert_exporter": "python",
   "pygments_lexer": "ipython3",
   "version": "3.6.7"
  }
 },
 "nbformat": 4,
 "nbformat_minor": 2
}
