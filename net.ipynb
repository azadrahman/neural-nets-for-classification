{
 "cells": [
  {
   "cell_type": "code",
   "execution_count": 103,
   "metadata": {},
   "outputs": [],
   "source": [
    "import numpy as np"
   ]
  },
  {
   "cell_type": "code",
   "execution_count": 129,
   "metadata": {},
   "outputs": [],
   "source": [
    "X = np.random.normal(0, 1, size=(1000, 20))\n",
    "y = np.random.randint(4, size=1000)"
   ]
  },
  {
   "cell_type": "code",
   "execution_count": null,
   "metadata": {},
   "outputs": [],
   "source": []
  },
  {
   "cell_type": "code",
   "execution_count": 131,
   "metadata": {},
   "outputs": [],
   "source": [
    "class Layer(object):\n",
    "    \n",
    "    def __init__(self, input_size, output_size, activation):\n",
    "        \n",
    "        self.input_size = input_size\n",
    "        self.output_size = output_size\n",
    "        \n",
    "        activations = {\n",
    "            \"none\": lambda z: z,\n",
    "            \"relu\": lambda z: max(0, z),\n",
    "            \"sigmoid\": lambda z: 1/(1 + np.exp(-z)),\n",
    "            \"softmax\": lambda z: np.exp(z)/np.exp(z).sum()\n",
    "        }\n",
    "        \n",
    "        self.activation_name = activation\n",
    "        self.activation_fun = activations.get(activation)\n",
    "        \n",
    "    \n",
    "    def update(self, grads):\n",
    "        pass\n",
    "    \n",
    "    "
   ]
  },
  {
   "cell_type": "markdown",
   "metadata": {},
   "source": [
    "class Input(Layer):\n",
    "    \n",
    "    def __init__(self, output_size, activation=\"none\"):\n",
    "        super().__init__(output_size, activation)"
   ]
  },
  {
   "cell_type": "code",
   "execution_count": 137,
   "metadata": {},
   "outputs": [],
   "source": [
    "class Dense(Layer):\n",
    "    \n",
    "    def __init__(self, input_size, output_size, activation=\"sigmoid\"):\n",
    "        super().__init__(input_size, output_size, activation)\n",
    "        self.weights = np.random.uniform(-0.1, 0.1, size=(self.input_size, self.output_size))\n",
    "\n",
    "    def process(self, inputs):\n",
    "        raw_output = np.matmul(inputs, self.weights)\n",
    "        return self.activation_fun(raw_output)\n",
    "    \n",
    "    \n",
    "    \n",
    "    \n",
    "    \n",
    "    def update_weights(self, meh):\n",
    "        pass"
   ]
  },
  {
   "cell_type": "code",
   "execution_count": 138,
   "metadata": {},
   "outputs": [],
   "source": [
    "X = np.random.normal(0, 1, size=(1000, 20))"
   ]
  },
  {
   "cell_type": "code",
   "execution_count": 139,
   "metadata": {},
   "outputs": [],
   "source": [
    "layer1 = Dense(20, 10, \"sigmoid\")"
   ]
  },
  {
   "cell_type": "code",
   "execution_count": null,
   "metadata": {},
   "outputs": [],
   "source": []
  },
  {
   "cell_type": "code",
   "execution_count": 187,
   "metadata": {},
   "outputs": [],
   "source": [
    "class Network(object):\n",
    "    \n",
    "    def __init__(self, layers):\n",
    "        self.layers = layers\n",
    "        self.output_size = layers[-1].output_size\n",
    "    \n",
    "    \n",
    "    def show(self):\n",
    "        k = 1\n",
    "        for layer in self.layers:\n",
    "            print(\"Layer {0}: {1}, {2} -> {3}, {4}\".format(\n",
    "                k, \n",
    "                type(layer).__name__,\n",
    "                layer.input_size,\n",
    "                layer.output_size,\n",
    "                layer.activation_name\n",
    "            ))\n",
    "            k = k+1\n",
    "    \n",
    "    \n",
    "    def predict(self, data, classes=True):\n",
    "        outputs = data\n",
    "        for k in range(len(self.layers)):\n",
    "            outputs = self.layers[k].process(outputs)\n",
    "        return np.argmax(outputs, axis=1) if classes else outputs\n",
    "    \n",
    "    \n",
    "    def get_cost(self, data, labels, penalty=0):\n",
    "        m = data.shape[0]\n",
    "        preds = self.predict(data, classes=False)\n",
    "        \n",
    "        cost = (-1/m) * (np.log(preds) * np.eye(self.output_size)[:, labels].T +\n",
    "                         np.log(1-preds) * (1 - np.eye(self.output_size)[:, labels]).T).sum()\n",
    "        \n",
    "        # Add regularisation\n",
    "        cost = cost + (penalty/m) * sum([(layer.weights**2).sum() for layer in self.layers])\n",
    "        \n",
    "        return cost\n",
    "\n",
    "    "
   ]
  },
  {
   "cell_type": "code",
   "execution_count": 188,
   "metadata": {},
   "outputs": [],
   "source": [
    "model = Network(\n",
    "    layers=[\n",
    "        Dense(20, 10, \"sigmoid\"),\n",
    "        Dense(10, 4, \"softmax\")\n",
    "    ]\n",
    ")"
   ]
  },
  {
   "cell_type": "code",
   "execution_count": 189,
   "metadata": {},
   "outputs": [
    {
     "name": "stdout",
     "output_type": "stream",
     "text": [
      "Layer 1: Dense, 20 -> 10, sigmoid\n",
      "Layer 2: Dense, 10 -> 4, softmax\n"
     ]
    }
   ],
   "source": [
    "model.show()"
   ]
  },
  {
   "cell_type": "code",
   "execution_count": 190,
   "metadata": {},
   "outputs": [
    {
     "data": {
      "text/plain": [
       "(1000, 4)"
      ]
     },
     "execution_count": 190,
     "metadata": {},
     "output_type": "execute_result"
    }
   ],
   "source": [
    "model.predict(X, classes=False).shape"
   ]
  },
  {
   "cell_type": "code",
   "execution_count": 192,
   "metadata": {},
   "outputs": [
    {
     "data": {
      "text/plain": [
       "8.298208736480415"
      ]
     },
     "execution_count": 192,
     "metadata": {},
     "output_type": "execute_result"
    }
   ],
   "source": [
    "model.get_cost(X, y, penalty=1)"
   ]
  },
  {
   "cell_type": "code",
   "execution_count": null,
   "metadata": {},
   "outputs": [],
   "source": []
  }
 ],
 "metadata": {
  "kernelspec": {
   "display_name": "Python 3",
   "language": "python",
   "name": "python3"
  },
  "language_info": {
   "codemirror_mode": {
    "name": "ipython",
    "version": 3
   },
   "file_extension": ".py",
   "mimetype": "text/x-python",
   "name": "python",
   "nbconvert_exporter": "python",
   "pygments_lexer": "ipython3",
   "version": "3.6.7"
  }
 },
 "nbformat": 4,
 "nbformat_minor": 2
}
