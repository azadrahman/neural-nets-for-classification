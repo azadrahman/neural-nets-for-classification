{
 "cells": [
  {
   "cell_type": "code",
   "execution_count": 1,
   "metadata": {},
   "outputs": [],
   "source": [
    "import numpy as np"
   ]
  },
  {
   "cell_type": "code",
   "execution_count": 2,
   "metadata": {},
   "outputs": [],
   "source": [
    "X = np.random.normal(0, 1, size=(1000, 20))\n",
    "y = np.random.randint(4, size=1000)"
   ]
  },
  {
   "cell_type": "code",
   "execution_count": null,
   "metadata": {},
   "outputs": [],
   "source": []
  },
  {
   "cell_type": "code",
   "execution_count": 3,
   "metadata": {},
   "outputs": [],
   "source": [
    "class Layer(object):\n",
    "    \n",
    "    def __init__(self, input_size, output_size, activation):\n",
    "        \n",
    "        self.input_size = input_size\n",
    "        self.output_size = output_size\n",
    "        \n",
    "        activations = {\n",
    "            \"none\": lambda z: z,\n",
    "            \"relu\": lambda z: max(0, z),\n",
    "            \"sigmoid\": lambda z: 1/(1 + np.exp(-z)),\n",
    "            \"softmax\": lambda z: np.exp(z)/np.exp(z).sum()\n",
    "        }\n",
    "        \n",
    "        activation_derivs = {\n",
    "            \"none\": lambda z: 1,\n",
    "            \"relu\": lambda z: 1 if z > 0 else 1,\n",
    "            \"sigmoid\": lambda z: 1/(1 + np.exp(-z)) * (1 - 1/(1 + np.exp(-z))),\n",
    "            \"softmax\": lambda z: z # TODO\n",
    "        }\n",
    "        \n",
    "        self.activation_name = activation\n",
    "        self.activation_fun = activations.get(activation)\n",
    "        self.activation_deriv_fun = activation_derivs.get(activation)\n",
    "    "
   ]
  },
  {
   "cell_type": "code",
   "execution_count": 4,
   "metadata": {},
   "outputs": [],
   "source": [
    "class Input(Layer):\n",
    "    \n",
    "    def __init__(self, output_size, activation=\"none\"):\n",
    "        super().__init__(output_size, output_size, activation)\n",
    "        self.weights = np.empty(0)\n",
    "    \n",
    "    def process(self, inputs):\n",
    "        self.raw_output = inputs\n",
    "        self.output = self.activation_fun(self.raw_output)\n",
    "        return self.output"
   ]
  },
  {
   "cell_type": "code",
   "execution_count": 419,
   "metadata": {},
   "outputs": [],
   "source": [
    "class Dense(Layer):\n",
    "    \n",
    "    def __init__(self, input_size, output_size, activation=\"sigmoid\", add_bias=True):\n",
    "        super().__init__(input_size, output_size, activation)\n",
    "        self.add_bias = add_bias\n",
    "        self.weights = np.random.uniform(\n",
    "            -0.1, 0.1,\n",
    "            size=(\n",
    "                self.output_size,\n",
    "                self.input_size + 1 if self.add_bias else self.input_size\n",
    "            )\n",
    "        )\n",
    "    \n",
    "\n",
    "    def process(self, inputs):\n",
    "        m = inputs.shape[0]\n",
    "        self.raw_output = np.matmul(\n",
    "            np.hstack((np.ones((m, 1)), inputs)) if self.add_bias else inputs,\n",
    "            self.weights.T\n",
    "        )\n",
    "        self.output = self.activation_fun(self.raw_output)\n",
    "        return self.output\n",
    "    \n",
    "    \n",
    "    def calculate_error(self, next_error, prev_raw_output):\n",
    "        # Omit bias weights\n",
    "        self.error = np.matmul(\n",
    "            next_error,\n",
    "            self.weights[:, 1:] if self.add_bias else self.weights\n",
    "        ) * self.activation_deriv_fun(prev_raw_output)\n",
    "        return self.error\n",
    "    \n",
    "    \n",
    "    def update_weights(self, meh):\n",
    "        pass"
   ]
  },
  {
   "cell_type": "code",
   "execution_count": 420,
   "metadata": {},
   "outputs": [],
   "source": [
    "X = np.random.normal(0, 1, size=(1000, 20))"
   ]
  },
  {
   "cell_type": "code",
   "execution_count": 421,
   "metadata": {},
   "outputs": [],
   "source": [
    "layer1 = Dense(20, 10, \"sigmoid\")"
   ]
  },
  {
   "cell_type": "code",
   "execution_count": 422,
   "metadata": {},
   "outputs": [
    {
     "data": {
      "text/plain": [
       "(1000, 10)"
      ]
     },
     "execution_count": 422,
     "metadata": {},
     "output_type": "execute_result"
    }
   ],
   "source": [
    "layer1.process(X)\n",
    "layer1.raw_output.shape"
   ]
  },
  {
   "cell_type": "code",
   "execution_count": 423,
   "metadata": {},
   "outputs": [],
   "source": [
    "class Network(object):\n",
    "    \n",
    "    def __init__(self, layers):\n",
    "        self.layers = layers\n",
    "        self.output_size = layers[-1].output_size\n",
    "    \n",
    "    \n",
    "    def show(self):\n",
    "        k = 0\n",
    "        for layer in self.layers:\n",
    "            print(\"Layer {0}: {1}, {2} -> {3}, {4}\".format(\n",
    "                k, \n",
    "                type(layer).__name__,\n",
    "                layer.input_size,\n",
    "                layer.output_size,\n",
    "                layer.activation_name\n",
    "            ))\n",
    "            k = k+1\n",
    "    \n",
    "    \n",
    "    def predict(self, data, classes=True):\n",
    "        outputs = data\n",
    "        for k in range(len(self.layers)):\n",
    "            outputs = self.layers[k].process(outputs)\n",
    "        return np.argmax(outputs, axis=1) if classes else outputs\n",
    "    \n",
    "    \n",
    "    def get_cost(self, data, labels, penalty=0):\n",
    "        m = data.shape[0]\n",
    "        preds = self.predict(data, classes=False)\n",
    "        \n",
    "        cost = (-1/m) * (np.log(preds) * np.eye(self.output_size)[:, labels].T +\n",
    "                         np.log(1-preds) * (1 - np.eye(self.output_size)[:, labels]).T).sum()\n",
    "        \n",
    "        # Add regularisation\n",
    "        cost = cost + (penalty/m) * sum([(layer.weights**2).sum() for layer in self.layers])\n",
    "        return cost\n",
    "    \n",
    "    \n",
    "    def get_weights(self):\n",
    "        return np.concatenate([layer.weights.flatten() for layer in self.layers])\n",
    "    \n",
    "    \n",
    "    def get_weights_grads(self, data, labels, penalty=0):\n",
    "        m = data.shape[0]\n",
    "        preds = self.predict(data, classes=False)\n",
    "        \n",
    "        # The \"k+1st\" error actually gets stored in Input layer - all fine!\n",
    "        error = preds - np.eye(self.output_size)[:, labels].T\n",
    "        self.layers[0].error = error\n",
    "        all_grads = np.empty(0)\n",
    "        \n",
    "        for k in range(len(self.layers)-1):\n",
    "            \n",
    "            # Calculate gradients using error from next layer\n",
    "            grads = 1/m * np.matmul(\n",
    "                np.hstack((np.ones((m, 1)), self.layers[-k-2].output)).T if self.layers[-k-1].add_bias else self.layers[-k-2].output.T,\n",
    "                error\n",
    "            )\n",
    "            # Compute regularisation term\n",
    "            reg = (penalty/m) * self.layers[-k-1].weights.T\n",
    "            if self.layers[-k-1].add_bias:\n",
    "                reg[:, 0] = 0\n",
    "            \n",
    "            all_grads = np.concatenate(((grads + reg).flatten(), all_grads))\n",
    "            \n",
    "            # Calculate error of next layer\n",
    "            error = self.layers[-k-1].calculate_error(self.layers[-k].error, self.layers[-k-2].raw_output)\n",
    "        \n",
    "        return all_grads\n",
    "    "
   ]
  },
  {
   "cell_type": "code",
   "execution_count": 424,
   "metadata": {},
   "outputs": [],
   "source": [
    "model = Network(\n",
    "    layers=[\n",
    "        Input(20),\n",
    "        Dense(20, 10, \"sigmoid\"),\n",
    "        Dense(10, 10, \"sigmoid\"),\n",
    "        Dense(10, 4, \"sigmoid\")\n",
    "    ]\n",
    ")"
   ]
  },
  {
   "cell_type": "code",
   "execution_count": 425,
   "metadata": {},
   "outputs": [
    {
     "name": "stdout",
     "output_type": "stream",
     "text": [
      "Layer 0: Input, 20 -> 20, none\n",
      "Layer 1: Dense, 20 -> 10, sigmoid\n",
      "Layer 2: Dense, 10 -> 10, sigmoid\n",
      "Layer 3: Dense, 10 -> 4, sigmoid\n"
     ]
    }
   ],
   "source": [
    "model.show()"
   ]
  },
  {
   "cell_type": "code",
   "execution_count": 426,
   "metadata": {},
   "outputs": [
    {
     "data": {
      "text/plain": [
       "(1000, 4)"
      ]
     },
     "execution_count": 426,
     "metadata": {},
     "output_type": "execute_result"
    }
   ],
   "source": [
    "model.predict(X, classes=False).shape"
   ]
  },
  {
   "cell_type": "code",
   "execution_count": 427,
   "metadata": {},
   "outputs": [
    {
     "data": {
      "text/plain": [
       "2.7892216476151734"
      ]
     },
     "execution_count": 427,
     "metadata": {},
     "output_type": "execute_result"
    }
   ],
   "source": [
    "model.get_cost(X, y, penalty=1)"
   ]
  },
  {
   "cell_type": "code",
   "execution_count": null,
   "metadata": {},
   "outputs": [],
   "source": []
  },
  {
   "cell_type": "code",
   "execution_count": 428,
   "metadata": {},
   "outputs": [
    {
     "data": {
      "text/plain": [
       "(364,)"
      ]
     },
     "execution_count": 428,
     "metadata": {},
     "output_type": "execute_result"
    }
   ],
   "source": [
    "model.get_weights().shape"
   ]
  },
  {
   "cell_type": "code",
   "execution_count": 431,
   "metadata": {
    "scrolled": true
   },
   "outputs": [
    {
     "data": {
      "text/plain": [
       "(364,)"
      ]
     },
     "execution_count": 431,
     "metadata": {},
     "output_type": "execute_result"
    }
   ],
   "source": [
    "model.get_weights_grads(X, y).shape"
   ]
  },
  {
   "cell_type": "code",
   "execution_count": null,
   "metadata": {},
   "outputs": [],
   "source": []
  },
  {
   "cell_type": "code",
   "execution_count": null,
   "metadata": {},
   "outputs": [],
   "source": [
    " "
   ]
  },
  {
   "cell_type": "code",
   "execution_count": null,
   "metadata": {},
   "outputs": [],
   "source": []
  }
 ],
 "metadata": {
  "kernelspec": {
   "display_name": "Python 3",
   "language": "python",
   "name": "python3"
  },
  "language_info": {
   "codemirror_mode": {
    "name": "ipython",
    "version": 3
   },
   "file_extension": ".py",
   "mimetype": "text/x-python",
   "name": "python",
   "nbconvert_exporter": "python",
   "pygments_lexer": "ipython3",
   "version": "3.6.7"
  }
 },
 "nbformat": 4,
 "nbformat_minor": 2
}
